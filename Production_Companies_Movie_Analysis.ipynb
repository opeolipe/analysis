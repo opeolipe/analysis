{
  "nbformat": 4,
  "nbformat_minor": 0,
  "metadata": {
    "kernelspec": {
      "display_name": "Python [default]",
      "language": "python",
      "name": "python3"
    },
    "language_info": {
      "codemirror_mode": {
        "name": "ipython",
        "version": 3
      },
      "file_extension": ".py",
      "mimetype": "text/x-python",
      "name": "python",
      "nbconvert_exporter": "python",
      "pygments_lexer": "ipython3",
      "version": "3.5.3"
    },
    "colab": {
      "name": "Production Companies Movie Analysis.ipynb",
      "provenance": [],
      "include_colab_link": true
    }
  },
  "cells": [
    {
      "cell_type": "markdown",
      "metadata": {
        "id": "view-in-github",
        "colab_type": "text"
      },
      "source": [
        "<a href=\"https://colab.research.google.com/github/opeolipe/analysis/blob/main/Production_Companies_Movie_Analysis.ipynb\" target=\"_parent\"><img src=\"https://colab.research.google.com/assets/colab-badge.svg\" alt=\"Open In Colab\"/></a>"
      ]
    },
    {
      "cell_type": "markdown",
      "metadata": {
        "id": "IH5leef4WFjr"
      },
      "source": [
        "\n",
        "\n",
        "# Project: Production Companies Movie Analysis\n",
        "\n",
        "## Table of Contents\n",
        "<ul>\n",
        "<li><a href=\"#intro\">Introduction</a></li>\n",
        "<li><a href=\"#wrangling\">Data Wrangling</a></li>\n",
        "<li><a href=\"#eda\">Exploratory Data Analysis</a></li>\n",
        "<li><a href=\"#conclusions\">Conclusions</a></li>\n",
        "</ul>"
      ]
    },
    {
      "cell_type": "markdown",
      "metadata": {
        "id": "ViSkUZ5VWFjt"
      },
      "source": [
        "<a id='intro'></a>\n",
        "## Introduction\n",
        "\n",
        "> I choose TMDB movie dataset for analysis. \n",
        "> The data set contains information about 10,000 movies collected from The Movie Database (TMDb).\n",
        "Data set was from [here](https://www.google.com/url?q=https://d17h27t6h515a5.cloudfront.net/topher/2017/October/59dd1c4c_tmdb-movies/tmdb-movies.csv&sa=D&ust=1532469042115000) (cleaned from\n",
        "original data on\n",
        "[Kaggle](https://www.google.com/url?q=https://www.kaggle.com/tmdb/tmdb-movie-metadata&sa=D&ust=1532469042115000))"
      ]
    },
    {
      "cell_type": "code",
      "metadata": {
        "collapsed": true,
        "id": "KRG0YYBnWFju"
      },
      "source": [
        "import pandas as pd\n",
        "import numpy as np\n",
        "import matplotlib.pyplot as plt\n",
        "import seaborn as sns\n",
        "% matplotlib inline "
      ],
      "execution_count": 1,
      "outputs": []
    },
    {
      "cell_type": "code",
      "metadata": {
        "id": "pX7Mz2W6_GO3"
      },
      "source": [
        "df = pd.read_csv (\"/content/tmdb-movies.csv\")"
      ],
      "execution_count": 2,
      "outputs": []
    },
    {
      "cell_type": "markdown",
      "metadata": {
        "id": "4XGZobYYWFjv"
      },
      "source": [
        "<a id='wrangling'></a>\n",
        "## Data Wrangling\n",
        "\n",
        "### General Properties"
      ]
    },
    {
      "cell_type": "code",
      "metadata": {
        "collapsed": true,
        "id": "-bN1FSjEWFjv",
        "colab": {
          "base_uri": "https://localhost:8080/"
        },
        "outputId": "24ec2e98-4fe7-4a2d-ad07-e106d257f660"
      },
      "source": [
        "df.info()"
      ],
      "execution_count": 3,
      "outputs": [
        {
          "output_type": "stream",
          "text": [
            "<class 'pandas.core.frame.DataFrame'>\n",
            "RangeIndex: 10866 entries, 0 to 10865\n",
            "Data columns (total 21 columns):\n",
            " #   Column                Non-Null Count  Dtype  \n",
            "---  ------                --------------  -----  \n",
            " 0   id                    10866 non-null  int64  \n",
            " 1   imdb_id               10856 non-null  object \n",
            " 2   popularity            10866 non-null  float64\n",
            " 3   budget                10866 non-null  int64  \n",
            " 4   revenue               10866 non-null  int64  \n",
            " 5   original_title        10866 non-null  object \n",
            " 6   cast                  10790 non-null  object \n",
            " 7   homepage              2936 non-null   object \n",
            " 8   director              10822 non-null  object \n",
            " 9   tagline               8042 non-null   object \n",
            " 10  keywords              9373 non-null   object \n",
            " 11  overview              10862 non-null  object \n",
            " 12  runtime               10866 non-null  int64  \n",
            " 13  genres                10843 non-null  object \n",
            " 14  production_companies  9836 non-null   object \n",
            " 15  release_date          10866 non-null  object \n",
            " 16  vote_count            10866 non-null  int64  \n",
            " 17  vote_average          10866 non-null  float64\n",
            " 18  release_year          10866 non-null  int64  \n",
            " 19  budget_adj            10866 non-null  float64\n",
            " 20  revenue_adj           10866 non-null  float64\n",
            "dtypes: float64(4), int64(6), object(11)\n",
            "memory usage: 1.7+ MB\n"
          ],
          "name": "stdout"
        }
      ]
    },
    {
      "cell_type": "code",
      "metadata": {
        "colab": {
          "base_uri": "https://localhost:8080/",
          "height": 267
        },
        "id": "OXrbN5XGE6Du",
        "outputId": "aa053d66-431f-4602-b368-bd6fa4170372"
      },
      "source": [
        "df.head(2)"
      ],
      "execution_count": 4,
      "outputs": [
        {
          "output_type": "execute_result",
          "data": {
            "text/html": [
              "<div>\n",
              "<style scoped>\n",
              "    .dataframe tbody tr th:only-of-type {\n",
              "        vertical-align: middle;\n",
              "    }\n",
              "\n",
              "    .dataframe tbody tr th {\n",
              "        vertical-align: top;\n",
              "    }\n",
              "\n",
              "    .dataframe thead th {\n",
              "        text-align: right;\n",
              "    }\n",
              "</style>\n",
              "<table border=\"1\" class=\"dataframe\">\n",
              "  <thead>\n",
              "    <tr style=\"text-align: right;\">\n",
              "      <th></th>\n",
              "      <th>id</th>\n",
              "      <th>imdb_id</th>\n",
              "      <th>popularity</th>\n",
              "      <th>budget</th>\n",
              "      <th>revenue</th>\n",
              "      <th>original_title</th>\n",
              "      <th>cast</th>\n",
              "      <th>homepage</th>\n",
              "      <th>director</th>\n",
              "      <th>tagline</th>\n",
              "      <th>keywords</th>\n",
              "      <th>overview</th>\n",
              "      <th>runtime</th>\n",
              "      <th>genres</th>\n",
              "      <th>production_companies</th>\n",
              "      <th>release_date</th>\n",
              "      <th>vote_count</th>\n",
              "      <th>vote_average</th>\n",
              "      <th>release_year</th>\n",
              "      <th>budget_adj</th>\n",
              "      <th>revenue_adj</th>\n",
              "    </tr>\n",
              "  </thead>\n",
              "  <tbody>\n",
              "    <tr>\n",
              "      <th>0</th>\n",
              "      <td>135397</td>\n",
              "      <td>tt0369610</td>\n",
              "      <td>32.985763</td>\n",
              "      <td>150000000</td>\n",
              "      <td>1513528810</td>\n",
              "      <td>Jurassic World</td>\n",
              "      <td>Chris Pratt|Bryce Dallas Howard|Irrfan Khan|Vi...</td>\n",
              "      <td>http://www.jurassicworld.com/</td>\n",
              "      <td>Colin Trevorrow</td>\n",
              "      <td>The park is open.</td>\n",
              "      <td>monster|dna|tyrannosaurus rex|velociraptor|island</td>\n",
              "      <td>Twenty-two years after the events of Jurassic ...</td>\n",
              "      <td>124</td>\n",
              "      <td>Action|Adventure|Science Fiction|Thriller</td>\n",
              "      <td>Universal Studios|Amblin Entertainment|Legenda...</td>\n",
              "      <td>6/9/15</td>\n",
              "      <td>5562</td>\n",
              "      <td>6.5</td>\n",
              "      <td>2015</td>\n",
              "      <td>1.379999e+08</td>\n",
              "      <td>1.392446e+09</td>\n",
              "    </tr>\n",
              "    <tr>\n",
              "      <th>1</th>\n",
              "      <td>76341</td>\n",
              "      <td>tt1392190</td>\n",
              "      <td>28.419936</td>\n",
              "      <td>150000000</td>\n",
              "      <td>378436354</td>\n",
              "      <td>Mad Max: Fury Road</td>\n",
              "      <td>Tom Hardy|Charlize Theron|Hugh Keays-Byrne|Nic...</td>\n",
              "      <td>http://www.madmaxmovie.com/</td>\n",
              "      <td>George Miller</td>\n",
              "      <td>What a Lovely Day.</td>\n",
              "      <td>future|chase|post-apocalyptic|dystopia|australia</td>\n",
              "      <td>An apocalyptic story set in the furthest reach...</td>\n",
              "      <td>120</td>\n",
              "      <td>Action|Adventure|Science Fiction|Thriller</td>\n",
              "      <td>Village Roadshow Pictures|Kennedy Miller Produ...</td>\n",
              "      <td>5/13/15</td>\n",
              "      <td>6185</td>\n",
              "      <td>7.1</td>\n",
              "      <td>2015</td>\n",
              "      <td>1.379999e+08</td>\n",
              "      <td>3.481613e+08</td>\n",
              "    </tr>\n",
              "  </tbody>\n",
              "</table>\n",
              "</div>"
            ],
            "text/plain": [
              "       id    imdb_id  popularity  ...  release_year    budget_adj   revenue_adj\n",
              "0  135397  tt0369610   32.985763  ...          2015  1.379999e+08  1.392446e+09\n",
              "1   76341  tt1392190   28.419936  ...          2015  1.379999e+08  3.481613e+08\n",
              "\n",
              "[2 rows x 21 columns]"
            ]
          },
          "metadata": {
            "tags": []
          },
          "execution_count": 4
        }
      ]
    },
    {
      "cell_type": "code",
      "metadata": {
        "colab": {
          "base_uri": "https://localhost:8080/"
        },
        "id": "s5EVZPlqOZeG",
        "outputId": "deafc98d-b91a-4bf9-ba86-84d57063d8d9"
      },
      "source": [
        "df.isna().sum()"
      ],
      "execution_count": 5,
      "outputs": [
        {
          "output_type": "execute_result",
          "data": {
            "text/plain": [
              "id                         0\n",
              "imdb_id                   10\n",
              "popularity                 0\n",
              "budget                     0\n",
              "revenue                    0\n",
              "original_title             0\n",
              "cast                      76\n",
              "homepage                7930\n",
              "director                  44\n",
              "tagline                 2824\n",
              "keywords                1493\n",
              "overview                   4\n",
              "runtime                    0\n",
              "genres                    23\n",
              "production_companies    1030\n",
              "release_date               0\n",
              "vote_count                 0\n",
              "vote_average               0\n",
              "release_year               0\n",
              "budget_adj                 0\n",
              "revenue_adj                0\n",
              "dtype: int64"
            ]
          },
          "metadata": {
            "tags": []
          },
          "execution_count": 5
        }
      ]
    },
    {
      "cell_type": "markdown",
      "metadata": {
        "id": "9zeIbvsvFXYp"
      },
      "source": [
        "> **Observasion from the dataset**\n",
        "*   Total rows = 10866\n",
        "*   Total column = 21\n",
        "*   After seeing the dataset we can say that several columns have null value, especially 'homepage'.\n",
        "*   Certain columns, like 'cast' and 'genres', contain multiple values separated by pipe (|) characters. \n",
        "*   The final two columns ending with “_adj” show the budget and revenue of the associated movie in terms of 2010 dollars, accounting for inflation over time.\n",
        "\n",
        "\n",
        "\n"
      ]
    },
    {
      "cell_type": "markdown",
      "metadata": {
        "id": "cX4CH64BWFjw"
      },
      "source": [
        "\n",
        "\n",
        "**### Data Cleaning** (Removing The Unused Information From The Dataset)\n",
        "> 1.   We need to remove duplicate rows from the dataset. \n",
        "2.   Changing format of release date into datetime format.\n",
        "3.   Remove the unused columns that are not needs in the analysis process. \n",
        "4.   Remove the movies that having null value of 'cast' and 'production_companies'.  \n",
        "5.   Split columns 'cast', 'genres' and 'production_companies'. We are going to use the first value only and remove the rest. \n",
        "\n",
        "\n"
      ]
    },
    {
      "cell_type": "markdown",
      "metadata": {
        "id": "USe24HaCPPP7"
      },
      "source": [
        "**1. Remove duplicate rows**"
      ]
    },
    {
      "cell_type": "code",
      "metadata": {
        "collapsed": true,
        "id": "iRiVopcrWFjw",
        "colab": {
          "base_uri": "https://localhost:8080/"
        },
        "outputId": "d41ff53b-f0d1-48d0-a95b-bf6695a0f989"
      },
      "source": [
        "sum(df.duplicated())"
      ],
      "execution_count": 6,
      "outputs": [
        {
          "output_type": "execute_result",
          "data": {
            "text/plain": [
              "1"
            ]
          },
          "metadata": {
            "tags": []
          },
          "execution_count": 6
        }
      ]
    },
    {
      "cell_type": "code",
      "metadata": {
        "id": "1xUoz8VLQTHC"
      },
      "source": [
        "# After calculating the duplicate rows we can drop drop these row using 'drop_duplicated()' function \n",
        "df.drop_duplicates(inplace=True) "
      ],
      "execution_count": 7,
      "outputs": []
    },
    {
      "cell_type": "code",
      "metadata": {
        "colab": {
          "base_uri": "https://localhost:8080/"
        },
        "id": "Z2jr2dtKQNyK",
        "outputId": "c26745b2-4512-4108-ca60-4c844a26496f"
      },
      "source": [
        "print (\"After removing duplicate value (Rows, Columns):\", df.shape)"
      ],
      "execution_count": 8,
      "outputs": [
        {
          "output_type": "stream",
          "text": [
            "After removing duplicate value (Rows, Columns): (10865, 21)\n"
          ],
          "name": "stdout"
        }
      ]
    },
    {
      "cell_type": "markdown",
      "metadata": {
        "id": "suLF4YxNQrkO"
      },
      "source": [
        "**2. Changing format of release date into dateime format**"
      ]
    },
    {
      "cell_type": "code",
      "metadata": {
        "colab": {
          "base_uri": "https://localhost:8080/"
        },
        "id": "Pp8HFkQgQlmL",
        "outputId": "762e8ede-b150-4d76-9a71-59bf88711820"
      },
      "source": [
        "# The release date in dataset is in string format. So we need to change this into dateime format. \n",
        "df['release_date'] = pd.to_datetime(df['release_date'])\n",
        "df['release_date'].head()"
      ],
      "execution_count": 9,
      "outputs": [
        {
          "output_type": "execute_result",
          "data": {
            "text/plain": [
              "0   2015-06-09\n",
              "1   2015-05-13\n",
              "2   2015-03-18\n",
              "3   2015-12-15\n",
              "4   2015-04-01\n",
              "Name: release_date, dtype: datetime64[ns]"
            ]
          },
          "metadata": {
            "tags": []
          },
          "execution_count": 9
        }
      ]
    },
    {
      "cell_type": "markdown",
      "metadata": {
        "id": "Zv1e9aZVRulw"
      },
      "source": [
        "**3. Remove unused columns that are not needs in the analysis process**\n",
        "> We can see that 21 columns in the dataset. We can drop column which are not usable in the data analysis process.  \n",
        "The column like 'imdb_id', 'homepage', 'tagline', 'keywords', 'overview', 'budget_adj', and 'revenue_adj' are not required for my analysis and I will drop these columns. \n",
        "\n",
        "\n"
      ]
    },
    {
      "cell_type": "code",
      "metadata": {
        "id": "v7wDlSFURuPx"
      },
      "source": [
        "df.drop(['imdb_id','homepage','tagline','keywords','overview','budget_adj','revenue_adj'], axis=1, inplace=True)"
      ],
      "execution_count": 10,
      "outputs": []
    },
    {
      "cell_type": "code",
      "metadata": {
        "colab": {
          "base_uri": "https://localhost:8080/"
        },
        "id": "Okgk90YmVfbx",
        "outputId": "c5b9150e-5f29-4c02-fe83-050143192d72"
      },
      "source": [
        "print (\"After removing unused columns (Rows, Columns):\",df.shape)"
      ],
      "execution_count": 11,
      "outputs": [
        {
          "output_type": "stream",
          "text": [
            "After removing unused columns (Rows, Columns): (10865, 14)\n"
          ],
          "name": "stdout"
        }
      ]
    },
    {
      "cell_type": "markdown",
      "metadata": {
        "id": "iibuJndvWAGq"
      },
      "source": [
        "**4. Remove movies that having null value of 'cast' and 'production_companies'**"
      ]
    },
    {
      "cell_type": "code",
      "metadata": {
        "colab": {
          "base_uri": "https://localhost:8080/"
        },
        "id": "HMLAfnE_Vpoj",
        "outputId": "48dcd716-63a8-4f70-d68d-a43cd8b1425c"
      },
      "source": [
        "print(\"Rows with null value in the cast column:\",df['cast'].isnull().sum())\n",
        "print (\"Rows with null value in the production companies column:\",df['production_companies'].isnull().sum())"
      ],
      "execution_count": 12,
      "outputs": [
        {
          "output_type": "stream",
          "text": [
            "Rows with null value in the cast column: 76\n",
            "Rows with null value in the production companies column: 1030\n"
          ],
          "name": "stdout"
        }
      ]
    },
    {
      "cell_type": "code",
      "metadata": {
        "id": "sWa00NzBW7yf"
      },
      "source": [
        "df.dropna(inplace=True)"
      ],
      "execution_count": 13,
      "outputs": []
    },
    {
      "cell_type": "code",
      "metadata": {
        "colab": {
          "base_uri": "https://localhost:8080/"
        },
        "id": "9SFpnJ62X4z3",
        "outputId": "b632dd97-215a-4d64-b5fa-5035271d9664"
      },
      "source": [
        "#Rechecking null value after removing. Should print False\n",
        "df.isnull().sum().any()"
      ],
      "execution_count": 14,
      "outputs": [
        {
          "output_type": "execute_result",
          "data": {
            "text/plain": [
              "False"
            ]
          },
          "metadata": {
            "tags": []
          },
          "execution_count": 14
        }
      ]
    },
    {
      "cell_type": "code",
      "metadata": {
        "colab": {
          "base_uri": "https://localhost:8080/"
        },
        "id": "v5328sykYO1f",
        "outputId": "4d7bb0ba-e302-43fc-f942-3a655156f2a2"
      },
      "source": [
        "print(\"After removing null value rows (Rows, Columns:\",df.shape)"
      ],
      "execution_count": 15,
      "outputs": [
        {
          "output_type": "stream",
          "text": [
            "After removing null value rows (Rows, Columns: (9772, 14)\n"
          ],
          "name": "stdout"
        }
      ]
    },
    {
      "cell_type": "code",
      "metadata": {
        "colab": {
          "base_uri": "https://localhost:8080/",
          "height": 267
        },
        "id": "o53rPtNHh-79",
        "outputId": "873cfb0a-3672-407f-d8e8-5b1917deea47"
      },
      "source": [
        "df.head(2)"
      ],
      "execution_count": 16,
      "outputs": [
        {
          "output_type": "execute_result",
          "data": {
            "text/html": [
              "<div>\n",
              "<style scoped>\n",
              "    .dataframe tbody tr th:only-of-type {\n",
              "        vertical-align: middle;\n",
              "    }\n",
              "\n",
              "    .dataframe tbody tr th {\n",
              "        vertical-align: top;\n",
              "    }\n",
              "\n",
              "    .dataframe thead th {\n",
              "        text-align: right;\n",
              "    }\n",
              "</style>\n",
              "<table border=\"1\" class=\"dataframe\">\n",
              "  <thead>\n",
              "    <tr style=\"text-align: right;\">\n",
              "      <th></th>\n",
              "      <th>id</th>\n",
              "      <th>popularity</th>\n",
              "      <th>budget</th>\n",
              "      <th>revenue</th>\n",
              "      <th>original_title</th>\n",
              "      <th>cast</th>\n",
              "      <th>director</th>\n",
              "      <th>runtime</th>\n",
              "      <th>genres</th>\n",
              "      <th>production_companies</th>\n",
              "      <th>release_date</th>\n",
              "      <th>vote_count</th>\n",
              "      <th>vote_average</th>\n",
              "      <th>release_year</th>\n",
              "    </tr>\n",
              "  </thead>\n",
              "  <tbody>\n",
              "    <tr>\n",
              "      <th>0</th>\n",
              "      <td>135397</td>\n",
              "      <td>32.985763</td>\n",
              "      <td>150000000</td>\n",
              "      <td>1513528810</td>\n",
              "      <td>Jurassic World</td>\n",
              "      <td>Chris Pratt|Bryce Dallas Howard|Irrfan Khan|Vi...</td>\n",
              "      <td>Colin Trevorrow</td>\n",
              "      <td>124</td>\n",
              "      <td>Action|Adventure|Science Fiction|Thriller</td>\n",
              "      <td>Universal Studios|Amblin Entertainment|Legenda...</td>\n",
              "      <td>2015-06-09</td>\n",
              "      <td>5562</td>\n",
              "      <td>6.5</td>\n",
              "      <td>2015</td>\n",
              "    </tr>\n",
              "    <tr>\n",
              "      <th>1</th>\n",
              "      <td>76341</td>\n",
              "      <td>28.419936</td>\n",
              "      <td>150000000</td>\n",
              "      <td>378436354</td>\n",
              "      <td>Mad Max: Fury Road</td>\n",
              "      <td>Tom Hardy|Charlize Theron|Hugh Keays-Byrne|Nic...</td>\n",
              "      <td>George Miller</td>\n",
              "      <td>120</td>\n",
              "      <td>Action|Adventure|Science Fiction|Thriller</td>\n",
              "      <td>Village Roadshow Pictures|Kennedy Miller Produ...</td>\n",
              "      <td>2015-05-13</td>\n",
              "      <td>6185</td>\n",
              "      <td>7.1</td>\n",
              "      <td>2015</td>\n",
              "    </tr>\n",
              "  </tbody>\n",
              "</table>\n",
              "</div>"
            ],
            "text/plain": [
              "       id  popularity     budget  ...  vote_count vote_average release_year\n",
              "0  135397   32.985763  150000000  ...        5562          6.5         2015\n",
              "1   76341   28.419936  150000000  ...        6185          7.1         2015\n",
              "\n",
              "[2 rows x 14 columns]"
            ]
          },
          "metadata": {
            "tags": []
          },
          "execution_count": 16
        }
      ]
    },
    {
      "cell_type": "markdown",
      "metadata": {
        "id": "NjK6q057Y5Ng"
      },
      "source": [
        "**5. Split column 'cast', 'genres' and 'production_companies'**"
      ]
    },
    {
      "cell_type": "code",
      "metadata": {
        "id": "NYo7rqnuY0ZW"
      },
      "source": [
        "#Split cast into main cast and the rest\n",
        "df[['cast_1','cast_2']] = df['cast'].str.split('|',n=1,expand=True) "
      ],
      "execution_count": 17,
      "outputs": []
    },
    {
      "cell_type": "code",
      "metadata": {
        "colab": {
          "base_uri": "https://localhost:8080/",
          "height": 267
        },
        "id": "9NiwCi50jFzq",
        "outputId": "0e107f28-9b85-4132-c9a4-c5d078a7623f"
      },
      "source": [
        "df.head(2)"
      ],
      "execution_count": 18,
      "outputs": [
        {
          "output_type": "execute_result",
          "data": {
            "text/html": [
              "<div>\n",
              "<style scoped>\n",
              "    .dataframe tbody tr th:only-of-type {\n",
              "        vertical-align: middle;\n",
              "    }\n",
              "\n",
              "    .dataframe tbody tr th {\n",
              "        vertical-align: top;\n",
              "    }\n",
              "\n",
              "    .dataframe thead th {\n",
              "        text-align: right;\n",
              "    }\n",
              "</style>\n",
              "<table border=\"1\" class=\"dataframe\">\n",
              "  <thead>\n",
              "    <tr style=\"text-align: right;\">\n",
              "      <th></th>\n",
              "      <th>id</th>\n",
              "      <th>popularity</th>\n",
              "      <th>budget</th>\n",
              "      <th>revenue</th>\n",
              "      <th>original_title</th>\n",
              "      <th>cast</th>\n",
              "      <th>director</th>\n",
              "      <th>runtime</th>\n",
              "      <th>genres</th>\n",
              "      <th>production_companies</th>\n",
              "      <th>release_date</th>\n",
              "      <th>vote_count</th>\n",
              "      <th>vote_average</th>\n",
              "      <th>release_year</th>\n",
              "      <th>cast_1</th>\n",
              "      <th>cast_2</th>\n",
              "    </tr>\n",
              "  </thead>\n",
              "  <tbody>\n",
              "    <tr>\n",
              "      <th>0</th>\n",
              "      <td>135397</td>\n",
              "      <td>32.985763</td>\n",
              "      <td>150000000</td>\n",
              "      <td>1513528810</td>\n",
              "      <td>Jurassic World</td>\n",
              "      <td>Chris Pratt|Bryce Dallas Howard|Irrfan Khan|Vi...</td>\n",
              "      <td>Colin Trevorrow</td>\n",
              "      <td>124</td>\n",
              "      <td>Action|Adventure|Science Fiction|Thriller</td>\n",
              "      <td>Universal Studios|Amblin Entertainment|Legenda...</td>\n",
              "      <td>2015-06-09</td>\n",
              "      <td>5562</td>\n",
              "      <td>6.5</td>\n",
              "      <td>2015</td>\n",
              "      <td>Chris Pratt</td>\n",
              "      <td>Bryce Dallas Howard|Irrfan Khan|Vincent D'Onof...</td>\n",
              "    </tr>\n",
              "    <tr>\n",
              "      <th>1</th>\n",
              "      <td>76341</td>\n",
              "      <td>28.419936</td>\n",
              "      <td>150000000</td>\n",
              "      <td>378436354</td>\n",
              "      <td>Mad Max: Fury Road</td>\n",
              "      <td>Tom Hardy|Charlize Theron|Hugh Keays-Byrne|Nic...</td>\n",
              "      <td>George Miller</td>\n",
              "      <td>120</td>\n",
              "      <td>Action|Adventure|Science Fiction|Thriller</td>\n",
              "      <td>Village Roadshow Pictures|Kennedy Miller Produ...</td>\n",
              "      <td>2015-05-13</td>\n",
              "      <td>6185</td>\n",
              "      <td>7.1</td>\n",
              "      <td>2015</td>\n",
              "      <td>Tom Hardy</td>\n",
              "      <td>Charlize Theron|Hugh Keays-Byrne|Nicholas Houl...</td>\n",
              "    </tr>\n",
              "  </tbody>\n",
              "</table>\n",
              "</div>"
            ],
            "text/plain": [
              "       id  ...                                             cast_2\n",
              "0  135397  ...  Bryce Dallas Howard|Irrfan Khan|Vincent D'Onof...\n",
              "1   76341  ...  Charlize Theron|Hugh Keays-Byrne|Nicholas Houl...\n",
              "\n",
              "[2 rows x 16 columns]"
            ]
          },
          "metadata": {
            "tags": []
          },
          "execution_count": 18
        }
      ]
    },
    {
      "cell_type": "code",
      "metadata": {
        "id": "dVTHk0c8do1Y"
      },
      "source": [
        "#Let's do it on 'genres' and 'production_companies'\n",
        "df[['genre_1','genre_2']]= df['genres'].str.split(\"|\",n=1,expand=True)"
      ],
      "execution_count": 19,
      "outputs": []
    },
    {
      "cell_type": "code",
      "metadata": {
        "id": "WzWPypfCgFoa"
      },
      "source": [
        "df[['production_companies_1','production_companies_2']] = df['production_companies'].str.split(\"|\",n=1,expand=True)"
      ],
      "execution_count": 20,
      "outputs": []
    },
    {
      "cell_type": "code",
      "metadata": {
        "colab": {
          "base_uri": "https://localhost:8080/"
        },
        "id": "fp92ZCdpgfCh",
        "outputId": "b7713ea3-4ad8-4a07-d5b0-4605eb811e3a"
      },
      "source": [
        "#Re-check all column to remove unuse column\n",
        "df.columns"
      ],
      "execution_count": 21,
      "outputs": [
        {
          "output_type": "execute_result",
          "data": {
            "text/plain": [
              "Index(['id', 'popularity', 'budget', 'revenue', 'original_title', 'cast',\n",
              "       'director', 'runtime', 'genres', 'production_companies', 'release_date',\n",
              "       'vote_count', 'vote_average', 'release_year', 'cast_1', 'cast_2',\n",
              "       'genre_1', 'genre_2', 'production_companies_1',\n",
              "       'production_companies_2'],\n",
              "      dtype='object')"
            ]
          },
          "metadata": {
            "tags": []
          },
          "execution_count": 21
        }
      ]
    },
    {
      "cell_type": "code",
      "metadata": {
        "id": "jN5mgXxUgxdL"
      },
      "source": [
        "#Remove unuse column \n",
        "df.drop(['cast','cast_2','genres','genre_2','production_companies','production_companies_2'], axis=1, inplace=True)"
      ],
      "execution_count": 22,
      "outputs": []
    },
    {
      "cell_type": "markdown",
      "metadata": {
        "id": "-agKAj7oYYsA"
      },
      "source": [
        "*Now the dataset is clean and all set, we can start to investigate the data for the question asked.*"
      ]
    },
    {
      "cell_type": "markdown",
      "metadata": {
        "id": "fXIwzrq5WFjw"
      },
      "source": [
        "<a id='eda'></a>\n",
        "## Exploratory Data Analysis\n",
        "\n",
        "> Questions that we want to answer on this analysis :\n",
        "1. What were the top 10 production company with highest profit? \n",
        "2. How many movies that the top production company produce?\n",
        "3. Which year has the higest profit rate of the top 1 production company? \n",
        "4. Was there any correlation between genre, director, cast, duration to profit? \n",
        "\n",
        "### Question 1 : What were the top 10 production company with the highest profit? "
      ]
    },
    {
      "cell_type": "code",
      "metadata": {
        "collapsed": true,
        "id": "QHT7OkZuWFjx"
      },
      "source": [
        "# Calculate profit for each of production company \n",
        "# Add a new column in the dataframe name 'profit'\n",
        "df['profit'] = df['revenue'] - df['budget']"
      ],
      "execution_count": 23,
      "outputs": []
    },
    {
      "cell_type": "code",
      "metadata": {
        "colab": {
          "base_uri": "https://localhost:8080/",
          "height": 165
        },
        "id": "XcYw194EksTf",
        "outputId": "598583ec-a219-4f44-d37b-90818349df11"
      },
      "source": [
        "df.head(2)"
      ],
      "execution_count": 24,
      "outputs": [
        {
          "output_type": "execute_result",
          "data": {
            "text/html": [
              "<div>\n",
              "<style scoped>\n",
              "    .dataframe tbody tr th:only-of-type {\n",
              "        vertical-align: middle;\n",
              "    }\n",
              "\n",
              "    .dataframe tbody tr th {\n",
              "        vertical-align: top;\n",
              "    }\n",
              "\n",
              "    .dataframe thead th {\n",
              "        text-align: right;\n",
              "    }\n",
              "</style>\n",
              "<table border=\"1\" class=\"dataframe\">\n",
              "  <thead>\n",
              "    <tr style=\"text-align: right;\">\n",
              "      <th></th>\n",
              "      <th>id</th>\n",
              "      <th>popularity</th>\n",
              "      <th>budget</th>\n",
              "      <th>revenue</th>\n",
              "      <th>original_title</th>\n",
              "      <th>director</th>\n",
              "      <th>runtime</th>\n",
              "      <th>release_date</th>\n",
              "      <th>vote_count</th>\n",
              "      <th>vote_average</th>\n",
              "      <th>release_year</th>\n",
              "      <th>cast_1</th>\n",
              "      <th>genre_1</th>\n",
              "      <th>production_companies_1</th>\n",
              "      <th>profit</th>\n",
              "    </tr>\n",
              "  </thead>\n",
              "  <tbody>\n",
              "    <tr>\n",
              "      <th>0</th>\n",
              "      <td>135397</td>\n",
              "      <td>32.985763</td>\n",
              "      <td>150000000</td>\n",
              "      <td>1513528810</td>\n",
              "      <td>Jurassic World</td>\n",
              "      <td>Colin Trevorrow</td>\n",
              "      <td>124</td>\n",
              "      <td>2015-06-09</td>\n",
              "      <td>5562</td>\n",
              "      <td>6.5</td>\n",
              "      <td>2015</td>\n",
              "      <td>Chris Pratt</td>\n",
              "      <td>Action</td>\n",
              "      <td>Universal Studios</td>\n",
              "      <td>1363528810</td>\n",
              "    </tr>\n",
              "    <tr>\n",
              "      <th>1</th>\n",
              "      <td>76341</td>\n",
              "      <td>28.419936</td>\n",
              "      <td>150000000</td>\n",
              "      <td>378436354</td>\n",
              "      <td>Mad Max: Fury Road</td>\n",
              "      <td>George Miller</td>\n",
              "      <td>120</td>\n",
              "      <td>2015-05-13</td>\n",
              "      <td>6185</td>\n",
              "      <td>7.1</td>\n",
              "      <td>2015</td>\n",
              "      <td>Tom Hardy</td>\n",
              "      <td>Action</td>\n",
              "      <td>Village Roadshow Pictures</td>\n",
              "      <td>228436354</td>\n",
              "    </tr>\n",
              "  </tbody>\n",
              "</table>\n",
              "</div>"
            ],
            "text/plain": [
              "       id  popularity     budget  ...  genre_1     production_companies_1      profit\n",
              "0  135397   32.985763  150000000  ...   Action          Universal Studios  1363528810\n",
              "1   76341   28.419936  150000000  ...   Action  Village Roadshow Pictures   228436354\n",
              "\n",
              "[2 rows x 15 columns]"
            ]
          },
          "metadata": {
            "tags": []
          },
          "execution_count": 24
        }
      ]
    },
    {
      "cell_type": "code",
      "metadata": {
        "id": "_N_gUC6Qj_4t"
      },
      "source": [
        "#Grouping the data on production companies and get the summary of their profit\n",
        "profit_company = df.groupby(\"production_companies_1\").profit.sum().to_frame()"
      ],
      "execution_count": 25,
      "outputs": []
    },
    {
      "cell_type": "code",
      "metadata": {
        "id": "dNnUsFcnlNu1"
      },
      "source": [
        "#Find the top 10 of profit company \n",
        "top_10 = profit_company.nlargest(10,'profit')"
      ],
      "execution_count": 26,
      "outputs": []
    },
    {
      "cell_type": "code",
      "metadata": {
        "id": "mB_G40BMpyKF"
      },
      "source": [
        "#Since the number will be too big to show in plot, let's conver it into million\n",
        "top_10 ['profit_millions'] = top_10['profit']/1000000"
      ],
      "execution_count": 27,
      "outputs": []
    },
    {
      "cell_type": "code",
      "metadata": {
        "colab": {
          "base_uri": "https://localhost:8080/",
          "height": 142
        },
        "id": "bFoOla19uSQ1",
        "outputId": "cfe4907f-2817-469c-be2a-381b0a1de62e"
      },
      "source": [
        "top_10.head(2)"
      ],
      "execution_count": 28,
      "outputs": [
        {
          "output_type": "execute_result",
          "data": {
            "text/html": [
              "<div>\n",
              "<style scoped>\n",
              "    .dataframe tbody tr th:only-of-type {\n",
              "        vertical-align: middle;\n",
              "    }\n",
              "\n",
              "    .dataframe tbody tr th {\n",
              "        vertical-align: top;\n",
              "    }\n",
              "\n",
              "    .dataframe thead th {\n",
              "        text-align: right;\n",
              "    }\n",
              "</style>\n",
              "<table border=\"1\" class=\"dataframe\">\n",
              "  <thead>\n",
              "    <tr style=\"text-align: right;\">\n",
              "      <th></th>\n",
              "      <th>profit</th>\n",
              "      <th>profit_millions</th>\n",
              "    </tr>\n",
              "    <tr>\n",
              "      <th>production_companies_1</th>\n",
              "      <th></th>\n",
              "      <th></th>\n",
              "    </tr>\n",
              "  </thead>\n",
              "  <tbody>\n",
              "    <tr>\n",
              "      <th>Universal Pictures</th>\n",
              "      <td>27820930400</td>\n",
              "      <td>27820.930400</td>\n",
              "    </tr>\n",
              "    <tr>\n",
              "      <th>Paramount Pictures</th>\n",
              "      <td>25833847603</td>\n",
              "      <td>25833.847603</td>\n",
              "    </tr>\n",
              "  </tbody>\n",
              "</table>\n",
              "</div>"
            ],
            "text/plain": [
              "                             profit  profit_millions\n",
              "production_companies_1                              \n",
              "Universal Pictures      27820930400     27820.930400\n",
              "Paramount Pictures      25833847603     25833.847603"
            ]
          },
          "metadata": {
            "tags": []
          },
          "execution_count": 28
        }
      ]
    },
    {
      "cell_type": "code",
      "metadata": {
        "colab": {
          "base_uri": "https://localhost:8080/",
          "height": 409
        },
        "id": "NKHW2TXummlD",
        "outputId": "30dd2350-4296-42a6-dc18-a8ff6e333a15"
      },
      "source": [
        "#Plot the bar graph using plot\n",
        "top_10.plot (y='profit_millions',kind='barh', fontsize =11, figsize =(8,6));\n",
        "\n",
        "#Set the label and the title of the plot\n",
        "plt.title (\"Top 10 Production Companies with the Highest Profit\", fontsize = 15)\n",
        "plt.xlabel(\"Production Company\", fontsize = 13)\n",
        "plt.ylabel(\"Profit in Millions (USD) \", fontsize = 13)\n",
        "sns.set_style(\"darkgrid\")\n",
        "\n"
      ],
      "execution_count": 29,
      "outputs": [
        {
          "output_type": "display_data",
          "data": {
            "image/png": "[encoded data removed]",
            "text/plain": [
              "<Figure size 576x432 with 1 Axes>"
            ]
          },
          "metadata": {
            "tags": [],
            "needs_background": "light"
          }
        }
      ]
    },
    {
      "cell_type": "markdown",
      "metadata": {
        "id": "1faawlHlxWnO"
      },
      "source": [
        "> After seeing the bar chart, we can conclude that Universal Pictures has the higest profit with over USD 25000 Millions followed by Paramorount Pictures (over USD 25000 Millions) and Walt Disney Pictures (over USD 2000 Millions)"
      ]
    },
    {
      "cell_type": "markdown",
      "metadata": {
        "id": "zB1SNWJ9WFjx"
      },
      "source": [
        "### Question 2 : How many movies that the top production company produce? "
      ]
    },
    {
      "cell_type": "code",
      "metadata": {
        "collapsed": true,
        "id": "sgs7aOYrWFjx"
      },
      "source": [
        "#Grouping the data on production company with revenue and total of movies \n",
        "movies = df.groupby('production_companies_1').id.count()"
      ],
      "execution_count": 30,
      "outputs": []
    },
    {
      "cell_type": "code",
      "metadata": {
        "id": "sQPwlIOi2NhJ"
      },
      "source": [
        "#Join the profit dataframe with movies\n",
        "total_movies = profit_company.merge(movies, left_index=True, right_index=True, how='inner')"
      ],
      "execution_count": 31,
      "outputs": []
    },
    {
      "cell_type": "code",
      "metadata": {
        "colab": {
          "base_uri": "https://localhost:8080/",
          "height": 235
        },
        "id": "UhJz5ym041nu",
        "outputId": "ea2d4a0a-4633-4528-e5af-e64e24247db2"
      },
      "source": [
        "total_movies.head(5)"
      ],
      "execution_count": 32,
      "outputs": [
        {
          "output_type": "execute_result",
          "data": {
            "text/html": [
              "<div>\n",
              "<style scoped>\n",
              "    .dataframe tbody tr th:only-of-type {\n",
              "        vertical-align: middle;\n",
              "    }\n",
              "\n",
              "    .dataframe tbody tr th {\n",
              "        vertical-align: top;\n",
              "    }\n",
              "\n",
              "    .dataframe thead th {\n",
              "        text-align: right;\n",
              "    }\n",
              "</style>\n",
              "<table border=\"1\" class=\"dataframe\">\n",
              "  <thead>\n",
              "    <tr style=\"text-align: right;\">\n",
              "      <th></th>\n",
              "      <th>profit</th>\n",
              "      <th>id</th>\n",
              "    </tr>\n",
              "    <tr>\n",
              "      <th>production_companies_1</th>\n",
              "      <th></th>\n",
              "      <th></th>\n",
              "    </tr>\n",
              "  </thead>\n",
              "  <tbody>\n",
              "    <tr>\n",
              "      <th>10th Hole Productions</th>\n",
              "      <td>-4376180</td>\n",
              "      <td>2</td>\n",
              "    </tr>\n",
              "    <tr>\n",
              "      <th>120dB Films</th>\n",
              "      <td>-8498623</td>\n",
              "      <td>3</td>\n",
              "    </tr>\n",
              "    <tr>\n",
              "      <th>1492 Pictures</th>\n",
              "      <td>2372547337</td>\n",
              "      <td>4</td>\n",
              "    </tr>\n",
              "    <tr>\n",
              "      <th>1818</th>\n",
              "      <td>7232628</td>\n",
              "      <td>1</td>\n",
              "    </tr>\n",
              "    <tr>\n",
              "      <th>185 Trax</th>\n",
              "      <td>-4200000</td>\n",
              "      <td>1</td>\n",
              "    </tr>\n",
              "  </tbody>\n",
              "</table>\n",
              "</div>"
            ],
            "text/plain": [
              "                            profit  id\n",
              "production_companies_1                \n",
              "10th Hole Productions     -4376180   2\n",
              "120dB Films               -8498623   3\n",
              "1492 Pictures           2372547337   4\n",
              "1818                       7232628   1\n",
              "185 Trax                  -4200000   1"
            ]
          },
          "metadata": {
            "tags": []
          },
          "execution_count": 32
        }
      ]
    },
    {
      "cell_type": "code",
      "metadata": {
        "colab": {
          "base_uri": "https://localhost:8080/",
          "height": 390
        },
        "id": "gAY85rI05CpJ",
        "outputId": "533c7895-d666-4ed7-9122-9118de1d29cc"
      },
      "source": [
        "#Find the top 10 company with total movies \n",
        "total_movies_10 = total_movies.nlargest(10,'profit')\n",
        "total_movies_10"
      ],
      "execution_count": 33,
      "outputs": [
        {
          "output_type": "execute_result",
          "data": {
            "text/html": [
              "<div>\n",
              "<style scoped>\n",
              "    .dataframe tbody tr th:only-of-type {\n",
              "        vertical-align: middle;\n",
              "    }\n",
              "\n",
              "    .dataframe tbody tr th {\n",
              "        vertical-align: top;\n",
              "    }\n",
              "\n",
              "    .dataframe thead th {\n",
              "        text-align: right;\n",
              "    }\n",
              "</style>\n",
              "<table border=\"1\" class=\"dataframe\">\n",
              "  <thead>\n",
              "    <tr style=\"text-align: right;\">\n",
              "      <th></th>\n",
              "      <th>profit</th>\n",
              "      <th>id</th>\n",
              "    </tr>\n",
              "    <tr>\n",
              "      <th>production_companies_1</th>\n",
              "      <th></th>\n",
              "      <th></th>\n",
              "    </tr>\n",
              "  </thead>\n",
              "  <tbody>\n",
              "    <tr>\n",
              "      <th>Universal Pictures</th>\n",
              "      <td>27820930400</td>\n",
              "      <td>460</td>\n",
              "    </tr>\n",
              "    <tr>\n",
              "      <th>Paramount Pictures</th>\n",
              "      <td>25833847603</td>\n",
              "      <td>426</td>\n",
              "    </tr>\n",
              "    <tr>\n",
              "      <th>Walt Disney Pictures</th>\n",
              "      <td>22008457637</td>\n",
              "      <td>213</td>\n",
              "    </tr>\n",
              "    <tr>\n",
              "      <th>Columbia Pictures</th>\n",
              "      <td>18010722358</td>\n",
              "      <td>271</td>\n",
              "    </tr>\n",
              "    <tr>\n",
              "      <th>Twentieth Century Fox Film Corporation</th>\n",
              "      <td>16411339087</td>\n",
              "      <td>242</td>\n",
              "    </tr>\n",
              "    <tr>\n",
              "      <th>New Line Cinema</th>\n",
              "      <td>9200216172</td>\n",
              "      <td>206</td>\n",
              "    </tr>\n",
              "    <tr>\n",
              "      <th>Lucasfilm</th>\n",
              "      <td>7671385005</td>\n",
              "      <td>20</td>\n",
              "    </tr>\n",
              "    <tr>\n",
              "      <th>Warner Bros.</th>\n",
              "      <td>7478008723</td>\n",
              "      <td>172</td>\n",
              "    </tr>\n",
              "    <tr>\n",
              "      <th>DreamWorks SKG</th>\n",
              "      <td>7231458583</td>\n",
              "      <td>73</td>\n",
              "    </tr>\n",
              "    <tr>\n",
              "      <th>Village Roadshow Pictures</th>\n",
              "      <td>7073489881</td>\n",
              "      <td>79</td>\n",
              "    </tr>\n",
              "  </tbody>\n",
              "</table>\n",
              "</div>"
            ],
            "text/plain": [
              "                                             profit   id\n",
              "production_companies_1                                  \n",
              "Universal Pictures                      27820930400  460\n",
              "Paramount Pictures                      25833847603  426\n",
              "Walt Disney Pictures                    22008457637  213\n",
              "Columbia Pictures                       18010722358  271\n",
              "Twentieth Century Fox Film Corporation  16411339087  242\n",
              "New Line Cinema                          9200216172  206\n",
              "Lucasfilm                                7671385005   20\n",
              "Warner Bros.                             7478008723  172\n",
              "DreamWorks SKG                           7231458583   73\n",
              "Village Roadshow Pictures                7073489881   79"
            ]
          },
          "metadata": {
            "tags": []
          },
          "execution_count": 33
        }
      ]
    },
    {
      "cell_type": "code",
      "metadata": {
        "colab": {
          "base_uri": "https://localhost:8080/",
          "height": 409
        },
        "id": "ZqOgPicR5TC5",
        "outputId": "7a710c4f-2803-45b7-b6a1-d332983147f0"
      },
      "source": [
        "#Plot the bar grap using plot\n",
        "total_movies_10.plot (y='id',kind = 'barh', fontsize =11, figsize= (8,6));\n",
        "\n",
        "#Set the label and the title \n",
        "plt.title(\"Total Movies of Top 10 Profit Production Companies\", fontsize = 15)\n",
        "plt.xlabel(\"Total Movie Being Produced\", fontsize =13)\n",
        "plt.ylabel(\"Production Companies\", fontsize = 13)\n",
        "sns.set_style('darkgrid')"
      ],
      "execution_count": 34,
      "outputs": [
        {
          "output_type": "display_data",
          "data": {
            "image/png": "[encoded data removed]",
            "text/plain": [
              "<Figure size 576x432 with 1 Axes>"
            ]
          },
          "metadata": {
            "tags": []
          }
        }
      ]
    },
    {
      "cell_type": "markdown",
      "metadata": {
        "id": "2zyrQLXI7h9V"
      },
      "source": [
        "> According to the bar chart, as expected Universal Pictures as the higest profit production company has produced more than others with over 400 movies. On the other hand, Walt Disney Picture as the top third profit production company produced movies lower than Columbia Picture and Twentieh Century Fox Film Corporation. \n",
        "\n",
        "> Furthermore, Lucasfilm was the outlier with only produce 20 movies but Lucasfilm was the 7th profit production company. \n",
        "\n"
      ]
    },
    {
      "cell_type": "markdown",
      "metadata": {
        "id": "bp9N7sLm_FNg"
      },
      "source": [
        "### Question 3 : Which year has the higest profit rate of the top 1 production company?  "
      ]
    },
    {
      "cell_type": "code",
      "metadata": {
        "id": "tSOSFci5_E8Z"
      },
      "source": [
        "# Filter the dataframe to Universal Pictures only \n",
        "df_up = df.query('production_companies_1==\"Universal Pictures\"')"
      ],
      "execution_count": 35,
      "outputs": []
    },
    {
      "cell_type": "code",
      "metadata": {
        "colab": {
          "base_uri": "https://localhost:8080/"
        },
        "id": "kKf7PUKL_2J6",
        "outputId": "653f7541-521d-4e4e-c144-f0a7076ba8aa"
      },
      "source": [
        "# Confirm only production company is Universal Pictures\n",
        "df_up['production_companies_1'].unique()"
      ],
      "execution_count": 36,
      "outputs": [
        {
          "output_type": "execute_result",
          "data": {
            "text/plain": [
              "array(['Universal Pictures'], dtype=object)"
            ]
          },
          "metadata": {
            "tags": []
          },
          "execution_count": 36
        }
      ]
    },
    {
      "cell_type": "code",
      "metadata": {
        "colab": {
          "base_uri": "https://localhost:8080/",
          "height": 300
        },
        "id": "cekvI-UBAJYP",
        "outputId": "499fc4cf-bfa3-4b8d-82a7-07df703739e7"
      },
      "source": [
        "# do year-wise analysis of profit earn by movies in each year\n",
        "# make the group of the data according their release_year and find the average profit and plot \n",
        "\n",
        "df_up.groupby('release_year')['profit'].mean().plot()\n",
        "\n",
        "# setup the title and label \n",
        "plt.title (\"Year vs Average Profit of Universal Pictures\", fontsize = 15)\n",
        "plt.xlabel (\"Year\", fontsize =13)\n",
        "plt.ylabel (\"Average Profit\", fontsize =13)\n",
        "\n",
        "# setup the figure size\n",
        "sns.set(rc={'figure.figsize': (10,5)})\n",
        "sns.set_style(\"whitegrid\")\n"
      ],
      "execution_count": 37,
      "outputs": [
        {
          "output_type": "display_data",
          "data": {
            "image/png": "[encoded data removed]",
            "text/plain": [
              "<Figure size 432x288 with 1 Axes>"
            ]
          },
          "metadata": {
            "tags": []
          }
        }
      ]
    },
    {
      "cell_type": "markdown",
      "metadata": {
        "id": "TB4Lj-ihBlWp"
      },
      "source": [
        "> According to the plot year 2015 - 2020 the most profitable year for Universal Pictures and the profit was low between year 1960 - 1969. "
      ]
    },
    {
      "cell_type": "markdown",
      "metadata": {
        "id": "hm0JX_Gn-Dcq"
      },
      "source": [
        "### Question 4 : Was there any correlation between genre, director, cast, duration to profit? \n"
      ]
    },
    {
      "cell_type": "code",
      "metadata": {
        "id": "sHLu_311D1mj"
      },
      "source": [
        ""
      ],
      "execution_count": 37,
      "outputs": []
    },
    {
      "cell_type": "markdown",
      "metadata": {
        "id": "HA0ITxLpWFjy"
      },
      "source": [
        "<a id='conclusions'></a>\n",
        "## Conclusions\n",
        "\n",
        "> **Tip**: Finally, summarize your findings and the results that have been performed. Make sure that you are clear with regards to the limitations of your exploration. If you haven't done any statistical tests, do not imply any statistical conclusions. And make sure you avoid implying causation from correlation!\n",
        "\n",
        "> **Tip**: Once you are satisfied with your work, you should save a copy of the report in HTML or PDF form via the **File** > **Download as** submenu. Before exporting your report, check over it to make sure that the flow of the report is complete. You should probably remove all of the \"Tip\" quotes like this one so that the presentation is as tidy as possible. Congratulations!"
      ]
    },
    {
      "cell_type": "code",
      "metadata": {
        "collapsed": true,
        "id": "TnmGh9ABWFjy"
      },
      "source": [
        ""
      ],
      "execution_count": 37,
      "outputs": []
    }
  ]
}